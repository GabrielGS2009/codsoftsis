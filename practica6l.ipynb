{
 "cells": [
  {
   "cell_type": "code",
   "execution_count": 30,
   "id": "3a017c75-bf8d-4867-8826-46958ac27beb",
   "metadata": {},
   "outputs": [
    {
     "name": "stdout",
     "output_type": "stream",
     "text": [
      "('10', 'hola', '3.14')\n",
      "3\n",
      "('jamaica', 'limon', 'cafe', 'empanada', 'caja', 'tienda', 'jose', 'miguel', 'felipe')\n",
      "a tienda miguel\n",
      "True\n",
      "(2, 3)\n",
      "5\n",
      "(1, 2, 3, 1, 2, 3, 1, 2, 3)\n",
      "(1, 2, 3)\n",
      "Minimo:  3  Maximo:  15\n"
     ]
    }
   ],
   "source": [
    "#-------------------------------------------------------------------------#\n",
    "#Crear una tuple con 3 elementos: 10, \"Hola\" y 3.14\n",
    "tupla = (\"10\", \"hola\", \"3.14\")\n",
    "        \n",
    "print(tupla)\n",
    "\n",
    "#-------------------------------------------------------------------------#\n",
    "#La tupla(1,2,3,4,5), accede y escribe el tercer element\n",
    "tupla = (1,2,3,4,5)\n",
    "print(tupla[2])\n",
    "\n",
    "#-------------------------------------------------------------------------#\n",
    "#Concatena las tuplas y almacena el resultado en una tupla Nueva\n",
    "tupla1 = (\"jamaica\",\"limon\",\"cafe\")\n",
    "tupla2 = (\"empanada\",\"caja\",\"tienda\")\n",
    "tupla3 = (\"jose\",\"miguel\",\"felipe\")\n",
    "tupla_final = (tupla1 + tupla2 + tupla3)\n",
    "print(tupla_final)\n",
    "\n",
    "#-------------------------------------------------------------------------#\n",
    "#Desempaqueta la tupla en tres variables y escribe sus valores\n",
    "tupla = ('a','b','c')\n",
    "var1 = tupla[0]\n",
    "var2 = tupla2[2]\n",
    "var3 = tupla3[1]\n",
    "print(var1,var2,var3)\n",
    "\n",
    "#-------------------------------------------------------------------------#\n",
    "#verifica si el elemento 7 existe en la tupla (1,3,5,7,9)\n",
    "\n",
    "tupla = (1,3,5,7,9)\n",
    "\n",
    "print(7 in tupla)\n",
    "\n",
    "#-------------------------------------------------------------------------#\n",
    "#crea una tupla (0,1,2,3,4,5) y escribe los elementos del indice 2 a 4 con slice\n",
    "tupla = (0,1,2,3,4,5)\n",
    "\n",
    "print(tupla [2:4])\n",
    "\n",
    "#-------------------------------------------------------------------------#\n",
    "#encuentra la longitude de una tupla (10,20,30,40,50)\n",
    "tupla =  (10,20,30,40,50)\n",
    "\n",
    "print(len(tupla))\n",
    "\n",
    "#-------------------------------------------------------------------------#\n",
    "#crea una tupla y repitela 3 veces\n",
    "tupla = (1,2,3)\n",
    "print(tupla * 3)\n",
    "\n",
    "#-------------------------------------------------------------------------#\n",
    "#convierte la lista[1,2,3] a tupla\n",
    "lista = [1,2,3]\n",
    "tupla = tuple(lista)\n",
    "print(tupla)\n",
    "\n",
    "#-------------------------------------------------------------------------#\n",
    "#Encuentra los valores minimo y maximo de la tupla(5,12,3,8,15)\n",
    "tupla = (5,12,3,8,15)\n",
    "print('Minimo: ',min (tupla),' Maximo: ', max (tupla)) \n",
    "\n",
    "\n",
    "\n"
   ]
  },
  {
   "cell_type": "code",
   "execution_count": null,
   "id": "ea58c7d2-8f27-4d7f-b389-a1f81ad33993",
   "metadata": {},
   "outputs": [],
   "source": []
  }
 ],
 "metadata": {
  "kernelspec": {
   "display_name": "Python [conda env:base] *",
   "language": "python",
   "name": "conda-base-py"
  },
  "language_info": {
   "codemirror_mode": {
    "name": "ipython",
    "version": 3
   },
   "file_extension": ".py",
   "mimetype": "text/x-python",
   "name": "python",
   "nbconvert_exporter": "python",
   "pygments_lexer": "ipython3",
   "version": "3.12.7"
  }
 },
 "nbformat": 4,
 "nbformat_minor": 5
}
