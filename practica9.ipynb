{
 "cells": [
  {
   "cell_type": "code",
   "execution_count": 1,
   "id": "13bad9ee-6675-4aa8-ab74-3b1908854870",
   "metadata": {},
   "outputs": [
    {
     "name": "stdout",
     "output_type": "stream",
     "text": [
      "0\n",
      "1\n",
      "2\n",
      "3\n",
      "4\n",
      "5\n",
      "6\n",
      "7\n",
      "8\n",
      "9\n"
     ]
    }
   ],
   "source": [
    "#escribir un programa que imprima los primeros 10 numeros\n",
    "num = 0\n",
    "for num in range (10):\n",
    "    print(num)"
   ]
  },
  {
   "cell_type": "code",
   "execution_count": 7,
   "id": "956be072-5517-4457-bf71-b2c06db495e3",
   "metadata": {},
   "outputs": [
    {
     "name": "stdout",
     "output_type": "stream",
     "text": [
      "1\n",
      "3\n",
      "5\n",
      "7\n",
      "9\n"
     ]
    }
   ],
   "source": [
    "#escribir un programa que imprima los primeros 10 numeros impares\n",
    "num = 0\n",
    "\n",
    "for num in range (10):\n",
    "    if num % 2 !=0:\n",
    "        print(num)\n"
   ]
  },
  {
   "cell_type": "code",
   "execution_count": 9,
   "id": "a96ca436-e411-45a7-ac32-bb99e8aa0083",
   "metadata": {},
   "outputs": [
    {
     "name": "stdout",
     "output_type": "stream",
     "text": [
      "0\n",
      "-1\n",
      "-2\n",
      "-3\n",
      "-4\n",
      "-5\n",
      "-6\n",
      "-7\n",
      "-8\n",
      "-9\n"
     ]
    }
   ],
   "source": [
    "#escribir un programa que imprima los primeros 10 numeros naturales en orden descendente\n",
    "num = 0\n",
    "for num in range (0,-10,-1):\n",
    "    print(num)"
   ]
  },
  {
   "cell_type": "code",
   "execution_count": 17,
   "id": "2d45b733-172a-4779-843d-d2d43e61e56d",
   "metadata": {},
   "outputs": [
    {
     "name": "stdin",
     "output_type": "stream",
     "text": [
      "pon un numero 3\n"
     ]
    },
    {
     "name": "stdout",
     "output_type": "stream",
     "text": [
      "0\n",
      "3\n",
      "6\n",
      "9\n",
      "12\n",
      "15\n",
      "18\n",
      "21\n",
      "24\n",
      "27\n"
     ]
    }
   ],
   "source": [
    "#escribir un programa que escriba la tabla de multiplicar de un numero especificado por el usuario\n",
    "ent = int(input(\"pon un numero\"))\n",
    "num = 0\n",
    "for num in range (10):\n",
    "    print(num * ent)"
   ]
  },
  {
   "cell_type": "code",
   "execution_count": 28,
   "id": "ee4a2dc5-58eb-4096-b7f9-73c61d89cbd7",
   "metadata": {},
   "outputs": [
    {
     "name": "stdin",
     "output_type": "stream",
     "text": [
      "ingresa codigo 2123135\n"
     ]
    },
    {
     "name": "stdout",
     "output_type": "stream",
     "text": [
      "el resultado es: 180\n"
     ]
    }
   ],
   "source": [
    "#escribir un programa que escriba el producto de los digitos de un numero especificado por el usuario\n",
    "num = input(\"ingresa codigo\")\n",
    "lista = list(num)\n",
    "nt = 1\n",
    "for x in lista:\n",
    "    nt = nt * int(x)\n",
    "print(\"el resultado es:\", nt)\n"
   ]
  }
 ],
 "metadata": {
  "kernelspec": {
   "display_name": "Python [conda env:base] *",
   "language": "python",
   "name": "conda-base-py"
  },
  "language_info": {
   "codemirror_mode": {
    "name": "ipython",
    "version": 3
   },
   "file_extension": ".py",
   "mimetype": "text/x-python",
   "name": "python",
   "nbconvert_exporter": "python",
   "pygments_lexer": "ipython3",
   "version": "3.12.7"
  }
 },
 "nbformat": 4,
 "nbformat_minor": 5
}
