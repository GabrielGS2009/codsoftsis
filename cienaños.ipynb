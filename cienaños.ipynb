{
 "cells": [
  {
   "cell_type": "code",
   "execution_count": null,
   "id": "cdcbb93d-6ebb-4af3-963c-606c06a6b8ab",
   "metadata": {},
   "outputs": [],
   "source": [
    "nombre = input(\"ingresa tu nombre\")\n",
    "edad= int(input(\"ingresa el año en que naciste\"))\n",
    "año_fut = 100\n",
    "edad_fut = edad + año_fut\n",
    "print(edad_fut)"
   ]
  }
 ],
 "metadata": {
  "kernelspec": {
   "display_name": "Python [conda env:base] *",
   "language": "python",
   "name": "conda-base-py"
  },
  "language_info": {
   "codemirror_mode": {
    "name": "ipython",
    "version": 3
   },
   "file_extension": ".py",
   "mimetype": "text/x-python",
   "name": "python",
   "nbconvert_exporter": "python",
   "pygments_lexer": "ipython3",
   "version": "3.12.7"
  }
 },
 "nbformat": 4,
 "nbformat_minor": 5
}
