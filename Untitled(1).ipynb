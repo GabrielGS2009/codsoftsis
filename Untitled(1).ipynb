{
 "cells": [
  {
   "cell_type": "code",
   "execution_count": 25,
   "id": "063096d8-5a2d-4fc5-8598-a081abcbb47c",
   "metadata": {},
   "outputs": [
    {
     "name": "stdin",
     "output_type": "stream",
     "text": [
      "ingresa el valor de la hora que quieres consultar: 5\n"
     ]
    },
    {
     "ename": "TypeError",
     "evalue": "'tuple' object is not callable",
     "output_type": "error",
     "traceback": [
      "\u001b[1;31m---------------------------------------------------------------------------\u001b[0m",
      "\u001b[1;31mTypeError\u001b[0m                                 Traceback (most recent call last)",
      "Cell \u001b[1;32mIn[25], line 12\u001b[0m\n\u001b[0;32m      9\u001b[0m hora_mexico \u001b[38;5;241m=\u001b[39m \u001b[38;5;28minput\u001b[39m(\u001b[38;5;124m\"\u001b[39m\u001b[38;5;124mingresa el valor de la hora que quieres consultar:\u001b[39m\u001b[38;5;124m\"\u001b[39m)\n\u001b[0;32m     10\u001b[0m hora_mexico \u001b[38;5;241m=\u001b[39m \u001b[38;5;28mint\u001b[39m(hora_mexico)\n\u001b[1;32m---> 12\u001b[0m \u001b[38;5;28mprint\u001b[39m(\u001b[38;5;124m\"\u001b[39m\u001b[38;5;124mla hora en las siguientes ciudades seria:\u001b[39m\u001b[38;5;124m\"\u001b[39m, hora_mexico \u001b[38;5;241m-\u001b[39m washington_DC)\n\u001b[0;32m     13\u001b[0m \u001b[38;5;28mprint\u001b[39m(\u001b[38;5;124m\"\u001b[39m\u001b[38;5;124mla hora en las siguientes ciudades seria:\u001b[39m\u001b[38;5;124m\"\u001b[39m, hora_mexico \u001b[38;5;241m-\u001b[39m lima)\n\u001b[0;32m     14\u001b[0m \u001b[38;5;28mprint\u001b[39m(\u001b[38;5;124m\"\u001b[39m\u001b[38;5;124mla hora en las siguientes ciudades seria:\u001b[39m\u001b[38;5;124m\"\u001b[39m, hora_mexico \u001b[38;5;241m+\u001b[39m madrid)\n",
      "\u001b[1;31mTypeError\u001b[0m: 'tuple' object is not callable"
     ]
    }
   ],
   "source": [
    "tokyo = +9\n",
    "\n",
    "washington_DC = -5\n",
    "lima = -5\n",
    "madrid = +1\n",
    "santiago = -3\n",
    "ottawa = -5\n",
    "\n",
    "hora_mexico = input(\"ingresa el valor de la hora que quieres consultar:\")\n",
    "hora_mexico = int(hora_mexico)\n",
    "\n",
    "print(\"la hora en las siguientes ciudades seria:\", hora_mexico - washington_DC)\n",
    "print(\"la hora en las siguientes ciudades seria:\", hora_mexico - lima)\n",
    "print(\"la hora en las siguientes ciudades seria:\", hora_mexico + madrid)\n",
    "print(\"la hora en las siguientes ciudades seria:\", hora_mexico - santiago)\n",
    "print(\"la hora en las siguientes ciudades seria:\", hora_mexico - ottawa ) \n",
    "\n"
   ]
  }
 ],
 "metadata": {
  "kernelspec": {
   "display_name": "Python [conda env:base] *",
   "language": "python",
   "name": "conda-base-py"
  },
  "language_info": {
   "codemirror_mode": {
    "name": "ipython",
    "version": 3
   },
   "file_extension": ".py",
   "mimetype": "text/x-python",
   "name": "python",
   "nbconvert_exporter": "python",
   "pygments_lexer": "ipython3",
   "version": "3.12.7"
  }
 },
 "nbformat": 4,
 "nbformat_minor": 5
}
