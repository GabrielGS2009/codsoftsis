{
 "cells": [
  {
   "cell_type": "code",
   "execution_count": 2,
   "id": "8494aa71-adb3-4029-b4c2-8a1eb35d4d8a",
   "metadata": {},
   "outputs": [
    {
     "name": "stdout",
     "output_type": "stream",
     "text": [
      "5\n",
      "6\n",
      "7\n",
      "8\n",
      "9\n"
     ]
    }
   ],
   "source": [
    "for i in range(5,10):\n",
    "    print(i)"
   ]
  },
  {
   "cell_type": "code",
   "execution_count": 4,
   "id": "e577a1cc-414e-468f-b8b4-1b3d4e4a85e5",
   "metadata": {},
   "outputs": [
    {
     "name": "stdout",
     "output_type": "stream",
     "text": [
      "-10\n",
      "-30\n",
      "-50\n",
      "-70\n",
      "-90\n"
     ]
    }
   ],
   "source": [
    "for i in range(-10,-100,-20):\n",
    "    print(i)"
   ]
  },
  {
   "cell_type": "code",
   "execution_count": 14,
   "id": "f72e53a4-210b-429d-8369-4da940223ab0",
   "metadata": {},
   "outputs": [
    {
     "name": "stdin",
     "output_type": "stream",
     "text": [
      "escribe un numero:  20\n"
     ]
    },
    {
     "name": "stdout",
     "output_type": "stream",
     "text": [
      "es un numero par\n"
     ]
    }
   ],
   "source": [
    "#ejercicio\n",
    "num = int(input(\"escribe un numero: \"))\n",
    "if num % 2 == 0:\n",
    "    print(\"es un numero par\")\n",
    "else:\n",
    "    print(\"es un numero no par\")"
   ]
  },
  {
   "cell_type": "code",
   "execution_count": 24,
   "id": "4ef7340a-659a-4556-baa8-ed1d2f19a13b",
   "metadata": {},
   "outputs": [
    {
     "name": "stdin",
     "output_type": "stream",
     "text": [
      "digita el lado del cuadrado: 5\n",
      "digita la base rectangulo: 5\n",
      "ahora la altura 8\n",
      "digita la base del triangulo: 2\n",
      "ahora la altura: 5\n",
      "digita el radio del circulo: 7\n"
     ]
    },
    {
     "name": "stdout",
     "output_type": "stream",
     "text": [
      "cuadrado 10\n",
      "rectangulo 40\n",
      "triangulo 5.0\n",
      "circulo 154.84\n"
     ]
    }
   ],
   "source": [
    "#ejercicio2\n",
    "cd = int(input(\"digita el lado del cuadrado:\"))\n",
    "rb = int(input(\"digita la base rectangulo:\"))\n",
    "rh = int(input(\"ahora la altura\"))\n",
    "tb = int(input(\"digita la base del triangulo:\"))\n",
    "th = int(input(\"ahora la altura:\"))\n",
    "cr = int(input(\"digita el radio del circulo:\"))\n",
    "\n",
    "r_cd = cd * 2\n",
    "r_rg = rb * rh\n",
    "r_t = tb * th / 2\n",
    "c_r = 3.16 * cr * cr\n",
    "\n",
    "print(\"cuadrado\",r_cd)\n",
    "print(\"rectangulo\",r_rg)\n",
    "print(\"triangulo\",r_t)\n",
    "print(\"circulo\",c_r)"
   ]
  }
 ],
 "metadata": {
  "kernelspec": {
   "display_name": "Python [conda env:base] *",
   "language": "python",
   "name": "conda-base-py"
  },
  "language_info": {
   "codemirror_mode": {
    "name": "ipython",
    "version": 3
   },
   "file_extension": ".py",
   "mimetype": "text/x-python",
   "name": "python",
   "nbconvert_exporter": "python",
   "pygments_lexer": "ipython3",
   "version": "3.12.7"
  }
 },
 "nbformat": 4,
 "nbformat_minor": 5
}
