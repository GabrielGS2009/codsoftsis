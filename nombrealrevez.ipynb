{
 "cells": [
  {
   "cell_type": "code",
   "execution_count": 7,
   "id": "1645962e-8e36-4aad-a940-1971c2f994ea",
   "metadata": {},
   "outputs": [
    {
     "name": "stdin",
     "output_type": "stream",
     "text": [
      "ingresa tu nombre leonardo gabriel\n"
     ]
    },
    {
     "name": "stdout",
     "output_type": "stream",
     "text": [
      "tu nombre al revez es: leirbag odranoel\n"
     ]
    }
   ],
   "source": [
    "nombre = input(\"ingresa tu nombre\")\n",
    "\n",
    "print(\"tu nombre al revez es:\", nombre[::-1]) \n"
   ]
  },
  {
   "cell_type": "code",
   "execution_count": null,
   "id": "157b8665-c531-4b1b-9dac-8a0e311d96a2",
   "metadata": {},
   "outputs": [],
   "source": []
  }
 ],
 "metadata": {
  "kernelspec": {
   "display_name": "Python [conda env:base] *",
   "language": "python",
   "name": "conda-base-py"
  },
  "language_info": {
   "codemirror_mode": {
    "name": "ipython",
    "version": 3
   },
   "file_extension": ".py",
   "mimetype": "text/x-python",
   "name": "python",
   "nbconvert_exporter": "python",
   "pygments_lexer": "ipython3",
   "version": "3.12.7"
  }
 },
 "nbformat": 4,
 "nbformat_minor": 5
}
