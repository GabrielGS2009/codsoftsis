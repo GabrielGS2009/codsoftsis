{
 "cells": [
  {
   "cell_type": "code",
   "execution_count": 8,
   "id": "8bb140ac-119a-4e00-b15a-7148ba5155e2",
   "metadata": {},
   "outputs": [
    {
     "name": "stdin",
     "output_type": "stream",
     "text": [
      "pon un numero 5\n"
     ]
    },
    {
     "name": "stdout",
     "output_type": "stream",
     "text": [
      "120\n"
     ]
    }
   ],
   "source": [
    "#escribe un programa que calcule el numero factorial de una cantidad especifica por el usuario\n",
    "num = int(input(\"pon un numero\"))\n",
    "facr = 1\n",
    "for i in range (num, 1, -1):\n",
    "    facr = facr * i\n",
    "print(facr)"
   ]
  },
  {
   "cell_type": "code",
   "execution_count": 10,
   "id": "baea7450-4382-47fb-a6f2-8ce3ab12fc04",
   "metadata": {},
   "outputs": [
    {
     "name": "stdin",
     "output_type": "stream",
     "text": [
      "pon un numero 5\n",
      "pon un numero 5\n"
     ]
    },
    {
     "name": "stdout",
     "output_type": "stream",
     "text": [
      "10\n"
     ]
    }
   ],
   "source": [
    "#escribir un programa que muestre la suma de los digitos de un numero especifico por el usuario\n",
    "num = int(input(\"pon un numero\"))\n",
    "num2 = int(input(\"pon un numero\"))\n",
    "resultado = num + num2\n",
    "print(resultado)"
   ]
  },
  {
   "cell_type": "code",
   "execution_count": 12,
   "id": "6bc7278c-a0b4-428b-873d-7b682c1ce67a",
   "metadata": {},
   "outputs": [
    {
     "name": "stdin",
     "output_type": "stream",
     "text": [
      "escribe 10 numeros separados por comas 10,20,30,10,20,30,10,10,10,10\n"
     ]
    },
    {
     "ename": "AttributeError",
     "evalue": "'int' object has no attribute 'split'",
     "output_type": "error",
     "traceback": [
      "\u001b[1;31m---------------------------------------------------------------------------\u001b[0m",
      "\u001b[1;31mAttributeError\u001b[0m                            Traceback (most recent call last)",
      "Cell \u001b[1;32mIn[12], line 3\u001b[0m\n\u001b[0;32m      1\u001b[0m \u001b[38;5;66;03m#escribir un programa que acepte 10 numeros separados por comas y calcular su promedio\u001b[39;00m\n\u001b[0;32m      2\u001b[0m ent \u001b[38;5;241m=\u001b[39m \u001b[38;5;28minput\u001b[39m(\u001b[38;5;124m\"\u001b[39m\u001b[38;5;124mescribe 10 numeros separados por comas\u001b[39m\u001b[38;5;124m\"\u001b[39m)\n\u001b[1;32m----> 3\u001b[0m numeros \u001b[38;5;241m=\u001b[39m [\u001b[38;5;28mfloat\u001b[39m(num) \u001b[38;5;28;01mfor\u001b[39;00m num \u001b[38;5;129;01min\u001b[39;00m num\u001b[38;5;241m.\u001b[39msplit(\u001b[38;5;124m'\u001b[39m\u001b[38;5;124m,\u001b[39m\u001b[38;5;124m'\u001b[39m)]\n\u001b[0;32m      4\u001b[0m \u001b[38;5;28;01mif\u001b[39;00m \u001b[38;5;28mlen\u001b[39m(numeros) \u001b[38;5;241m!=\u001b[39m \u001b[38;5;241m10\u001b[39m:\n\u001b[0;32m      5\u001b[0m     \u001b[38;5;28mprint\u001b[39m(\u001b[38;5;124m\"\u001b[39m\u001b[38;5;124mPor favor, ingresa exactamente 10 números.\u001b[39m\u001b[38;5;124m\"\u001b[39m)\n",
      "\u001b[1;31mAttributeError\u001b[0m: 'int' object has no attribute 'split'"
     ]
    }
   ],
   "source": [
    "#escribir un programa que acepte 10 numeros separados por comas y calcular su promedio\n",
    "ent = input(\"escribe 10 numeros separados por comas\")\n",
    "numeros = [float() for num in num.split(',')]\n",
    "if len(numeros) != 10:\n",
    "    print(\"Por favor, ingresa exactamente 10 números.\")\n",
    "else:\n",
    "    promedio = sum(numeros) / len(numeros)\n",
    "    print(f\"El promedio de los números ingresados es: {promedio}\")\n"
   ]
  },
  {
   "cell_type": "code",
   "execution_count": null,
   "id": "2b6e6462-3f6f-458d-99a3-24120f933c9b",
   "metadata": {},
   "outputs": [],
   "source": [
    "#escribir un programa que escriba todos los numeros primos que se encuentren dos numeros escritos por el usuario"
   ]
  },
  {
   "cell_type": "code",
   "execution_count": null,
   "id": "cb1c88b4-f68e-4eb0-b36c-6c5a02b59a54",
   "metadata": {},
   "outputs": [],
   "source": [
    "#escribir un programa que escriba el siguente formato hasta un numero definido por el usuario\n",
    "#ejemplo\n",
    "#1\n",
    "#12\n",
    "#123\n",
    "#1234\n",
    "#12345\n",
    "#123456\n",
    "#1234567\n"
   ]
  }
 ],
 "metadata": {
  "kernelspec": {
   "display_name": "Python [conda env:base] *",
   "language": "python",
   "name": "conda-base-py"
  },
  "language_info": {
   "codemirror_mode": {
    "name": "ipython",
    "version": 3
   },
   "file_extension": ".py",
   "mimetype": "text/x-python",
   "name": "python",
   "nbconvert_exporter": "python",
   "pygments_lexer": "ipython3",
   "version": "3.12.7"
  }
 },
 "nbformat": 4,
 "nbformat_minor": 5
}
