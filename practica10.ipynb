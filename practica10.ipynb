{
 "cells": [
  {
   "cell_type": "code",
   "execution_count": 7,
   "id": "72235fbb-e8c1-42a8-bd66-2f903057aca1",
   "metadata": {},
   "outputs": [
    {
     "name": "stdin",
     "output_type": "stream",
     "text": [
      "pon un numero 5\n"
     ]
    },
    {
     "name": "stdout",
     "output_type": "stream",
     "text": [
      "120\n"
     ]
    }
   ],
   "source": [
    "#escribe un programa que calcule el numero factorial de una cantidad especifica por el usuario\n",
    "num = int(input(\"pon un numero\"))\n",
    "facr = 1\n",
    "for i in range (num, 1, -1):\n",
    "    facr = facr * i\n",
    "print(facr)\n"
   ]
  },
  {
   "cell_type": "code",
   "execution_count": null,
   "id": "ddb53107-09c9-48c9-9d42-2da732541e13",
   "metadata": {},
   "outputs": [],
   "source": [
    "#escribir un programa que muestre la suma de los digitos de un numero especifico por el usuario\n",
    "num = int(input(\"pon un numero\"))\n",
    "num2 = int(input(\"pon un numero\"))\n",
    "resultado = num + num2\n",
    "print(resultado)"
   ]
  },
  {
   "cell_type": "code",
   "execution_count": 5,
   "id": "41d1bf92-2736-4809-8b4d-9fc459835aea",
   "metadata": {},
   "outputs": [
    {
     "name": "stdin",
     "output_type": "stream",
     "text": [
      "pon diez numeros 1,2,3,4,5,6,7,8,9,10\n"
     ]
    },
    {
     "name": "stdout",
     "output_type": "stream",
     "text": [
      "5.5\n"
     ]
    }
   ],
   "source": [
    "#escribir un programa que acepte 10 numeros separados por comas y calcular su promedio\n",
    "ent = input(\"pon diez numeros\")\n",
    "num = ent.split(\",\")\n",
    "\n",
    "el_resultado = 0\n",
    "elementos = len(num)\n",
    "for p in num:\n",
    "    el_resultado += int(p)\n",
    "promedio = el_resultado / elementos\n",
    "print(promedio)"
   ]
  },
  {
   "cell_type": "code",
   "execution_count": 23,
   "id": "923c146b-70a6-4664-b0e1-8c74c7f6bfd3",
   "metadata": {},
   "outputs": [
    {
     "name": "stdin",
     "output_type": "stream",
     "text": [
      "primer numero 5\n",
      "el ultimo numero 20\n"
     ]
    },
    {
     "name": "stdout",
     "output_type": "stream",
     "text": [
      "los numeros primos entre el 5 y 20 son: \n",
      "5\n",
      "7\n",
      "9\n",
      "11\n",
      "13\n",
      "15\n",
      "17\n",
      "19\n"
     ]
    }
   ],
   "source": [
    "#escribir un programa que escriba todos los numeros primos que se encuentren dos numeros escritos por el usuario\n",
    "inicio = int(input(\"primer numero\"))\n",
    "final = int(input(\"el ultimo numero\"))\n",
    "print(f'los numeros primos entre el {inicio} y {final} son: ')\n",
    "for num in range(inicio, final):\n",
    "    if num %2 != 0:\n",
    "        print(num)\n",
    "    "
   ]
  },
  {
   "cell_type": "code",
   "execution_count": null,
   "id": "3d031f59-1902-45b6-8da6-394cfab27fb0",
   "metadata": {},
   "outputs": [],
   "source": [
    "#escribir un programa que escriba el siguente formato hasta un numero definido por el usuario\n",
    "#ejemplo\n",
    "#1\n",
    "#12\n",
    "#123\n",
    "#1234\n",
    "#12345\n",
    "#123456\n",
    "#******\n",
    "#*****\n",
    "#****\n",
    "#***\n",
    "#**\n",
    "#*\n",
    "primero = in(input(\"pon un numero\"))\n",
    "despues = \"\"\n",
    "for t in range(1, primero + 1):\n",
    "    despues += str(t)\n",
    "    print(despues)\n",
    "yadespues = \"\"\n",
    "for t in range(primero, 0 "
   ]
  }
 ],
 "metadata": {
  "kernelspec": {
   "display_name": "Python [conda env:base] *",
   "language": "python",
   "name": "conda-base-py"
  },
  "language_info": {
   "codemirror_mode": {
    "name": "ipython",
    "version": 3
   },
   "file_extension": ".py",
   "mimetype": "text/x-python",
   "name": "python",
   "nbconvert_exporter": "python",
   "pygments_lexer": "ipython3",
   "version": "3.12.7"
  }
 },
 "nbformat": 4,
 "nbformat_minor": 5
}
