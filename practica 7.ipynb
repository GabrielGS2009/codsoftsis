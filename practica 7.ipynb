{
 "cells": [
  {
   "cell_type": "code",
   "execution_count": 69,
   "id": "a2fc7bf0-ee8a-434d-9b82-49dff0d52c08",
   "metadata": {},
   "outputs": [
    {
     "name": "stdin",
     "output_type": "stream",
     "text": [
      "Introduce la calificación:  10\n"
     ]
    },
    {
     "name": "stdout",
     "output_type": "stream",
     "text": [
      "Grupo D\n"
     ]
    }
   ],
   "source": [
    "#-------------------------------------------------------------------------#\n",
    "#Escribir un programa que acepte el porcentaje de un alumno y evalue el grado de acuerdo al siguiente criterio\n",
    "#Calificacion\tGrado\n",
    "#   >90\t\t\t\tA\n",
    "#   >80 y <= 90\t\tB\n",
    "#   >=60 y <=80\t\tC\n",
    "#   menor a 60\t\tD\n",
    "\n",
    "calificacion = int(input(\"Introduce la calificación: \"))\n",
    "\n",
    "if calificacion > 90:\n",
    "\n",
    "    print(\"Grupo Α\")\n",
    "\n",
    "elif calificacion >= 80 and calificacion <= 90: \n",
    "\n",
    "    print(\"Grupo B\")\n",
    "\n",
    "elif calificacion >= 60 and calificacion <= 80:\n",
    "\n",
    "    print(\"Grupo C\")\n",
    "\n",
    "elif calificacion < 60:\n",
    "    print(\"Grupo D\")\n",
    "\n",
    "else:\n",
    "\n",
    "    print(\"Calificación no válida.\")"
   ]
  },
  {
   "cell_type": "code",
   "execution_count": 71,
   "id": "701d5121-df65-4a6d-8d09-b0454b0be61c",
   "metadata": {},
   "outputs": [
    {
     "name": "stdin",
     "output_type": "stream",
     "text": [
      "Introduce el precio de la bicicleta:  500\n"
     ]
    },
    {
     "name": "stdout",
     "output_type": "stream",
     "text": [
      "Impuesto de 5%, son $ 25.0\n"
     ]
    }
   ],
   "source": [
    "#-------------------------------------------------------------------------#\n",
    "#Escribir un programa que capture el precio de una bicicleta y muestre los impuestos que debe pagar siguiendo los criterios siguientes:\n",
    "# Costo\t\t\t\t\tImpuesto\n",
    "# >100000\t\t\t\t15%\n",
    "# >50000 y <= 100000\t10% \n",
    "#<=50000\t\t\t\t 5%\n",
    "precio = float(input(\"Introduce el precio de la bicicleta: \"))\n",
    "A = precio * 0.15\n",
    "\n",
    "B= precio * 0.10\n",
    "\n",
    "C = precio * 0.05\n",
    "if precio > 100000:\n",
    "\n",
    "    print('Impuesto de 15%, son $', A)\n",
    "\n",
    "elif precio >= 50000 and precio <= 100000:\n",
    "\n",
    "    print(\"Impuesto de 10%, son $\", B)\n",
    "\n",
    "elif precio < 50000:\n",
    "\n",
    "    print('Impuesto de 5%, son $', C)"
   ]
  },
  {
   "cell_type": "code",
   "execution_count": 73,
   "id": "0f419c9e-925a-41d4-a444-8ecf0757d9f3",
   "metadata": {},
   "outputs": [
    {
     "name": "stdin",
     "output_type": "stream",
     "text": [
      "Introduce el año 2014\n"
     ]
    },
    {
     "name": "stdout",
     "output_type": "stream",
     "text": [
      "El año no es bisiesto.\n"
     ]
    }
   ],
   "source": [
    "#-------------------------------------------------------------------------#\n",
    "#Escribir un programa que verifique si un año es bisiesto o no\n",
    "\n",
    "año = int(input(\"Introduce el año\"))\n",
    "if (año % 4 == 0 and año % 100 != 0) or (año % 400 == 0):\n",
    "\n",
    "    print(\"El año es bisiesto.\")\n",
    "\n",
    "else:\n",
    "\n",
    "    print(\"El año no es bisiesto.\")"
   ]
  },
  {
   "cell_type": "code",
   "execution_count": 75,
   "id": "a2fdea99-405f-44e9-9f3b-6a73267e9f23",
   "metadata": {},
   "outputs": [
    {
     "name": "stdin",
     "output_type": "stream",
     "text": [
      "Ingresa el numero de la semana:  5\n"
     ]
    },
    {
     "name": "stdout",
     "output_type": "stream",
     "text": [
      "VIERNES\n"
     ]
    }
   ],
   "source": [
    "#-------------------------------------------------------------------------#\n",
    "#Escribir un programa que capture un numero del 1 al 7 y muestre el nombre del dia de la semana\n",
    "#Por ejemplo el 1 seria Domingo y el 2 Lunes\n",
    "ent = int(input('Ingresa el numero de la semana: '))\n",
    "\n",
    "if ent == 1: print('LUNES')\n",
    "\n",
    "elif ent == 2: print('MARTES')\n",
    "\n",
    "elif ent == 3: print('MIERCOLES')\n",
    "\n",
    "elif ent== 4: print('JUEVES')\n",
    "\n",
    "elif ent==5: print('VIERNES')\n",
    "\n",
    "elif ent== 6: print('SABADO')\n",
    "\n",
    "elif ent == 7: print(\"DOMINGO\")\n",
    "\n",
    "else: print('Selecciona un dia del 17')\n",
    "\n",
    "if ent > 7 or ent < 1:\n",
    "\n",
    "    print('No entra', ent,\" dentro del rango\") \n",
    "    print('Reinicia e intenta de nuevo')"
   ]
  },
  {
   "cell_type": "code",
   "execution_count": 79,
   "id": "7a39aa28-9d70-4dcb-ba1a-38451d4ea69e",
   "metadata": {},
   "outputs": [
    {
     "name": "stdin",
     "output_type": "stream",
     "text": [
      "numero del mes 5\n",
      "Año Actual:  2025\n"
     ]
    },
    {
     "name": "stdout",
     "output_type": "stream",
     "text": [
      "Mayo, y tiene 31 Dias\n"
     ]
    }
   ],
   "source": [
    "#-------------------------------------------------------------------------#\n",
    "#Escribir un programa que acepte un numero del 1 al 12 y muestre el nombre del mes asi como los dias que contiene\n",
    "#Ejemplo 1 seria Enero tiene 31 dias\n",
    "ent = int(input(\"numero del mes\"))\n",
    "eso = int(input('Año Actual: '))\n",
    "\n",
    "mes = True\n",
    "\n",
    "if eso %4 == 0:\n",
    "\n",
    "    mes = True\n",
    "\n",
    "else:\n",
    "\n",
    "    mes = False\n",
    "\n",
    "\n",
    "if ent ==1:\n",
    "\n",
    "    print('Enero, y tiene 31 Dias')\n",
    "\n",
    "elif ent==2:\n",
    "\n",
    "    if mes:\n",
    "        print(\"Febrero, y tiene 29 Dias\")\n",
    "\n",
    "    else: \n",
    "        print(\"Febrero y tiene 28 Dias\")\n",
    "\n",
    "elif ent == 3:\n",
    "\n",
    "    print('Marzo, y tiene 31 Dias')\n",
    "\n",
    "elif ent == 4:\n",
    "\n",
    "    print('Abril, y tiene 30 Dias')\n",
    "\n",
    "elif ent == 5:\n",
    "    print('Mayo, y tiene 31 Dias')\n",
    "\n",
    "elif ent == 6:\n",
    "\n",
    "    print('Junio, y tiene 30 Dias')\n",
    "\n",
    "elif ent == 7:\n",
    "\n",
    "    print('Julio, y tiene 31 Dias')\n",
    "\n",
    "elif ent == 8:\n",
    "\n",
    "    print(\"Agosto, y tiene 31 Dias\")\n",
    "\n",
    "elif ent == 9:\n",
    "\n",
    "    print('Septiembre, y tiene 30 Dias')\n",
    "\n",
    "elif ent == 10:\n",
    "\n",
    "    print('Octubre, y tiene 31 Dias')\n",
    "\n",
    "elif ent == 11:\n",
    "\n",
    "    print('Noviembre, y tiene 30 Dias')\n",
    "\n",
    "elif ent == 12:\n",
    "\n",
    "    print('Diciembre, y tiene 31 Dias')\n",
    "\n",
    "else:\n",
    "\n",
    "    print('Selecciona un mes del 1-12')"
   ]
  }
 ],
 "metadata": {
  "kernelspec": {
   "display_name": "Python [conda env:base] *",
   "language": "python",
   "name": "conda-base-py"
  },
  "language_info": {
   "codemirror_mode": {
    "name": "ipython",
    "version": 3
   },
   "file_extension": ".py",
   "mimetype": "text/x-python",
   "name": "python",
   "nbconvert_exporter": "python",
   "pygments_lexer": "ipython3",
   "version": "3.12.7"
  }
 },
 "nbformat": 4,
 "nbformat_minor": 5
}
